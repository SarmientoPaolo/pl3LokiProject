import time

# Define the transportation options and their associated costs, routes, and rush hour times
options = {
    "1": {"name": "Jeepney (30 km/hr) Rush hours(11km/hr)", "fare": 14.0, "cost": 2.20, "rush_hours": [(6, 9), (16, 18)]},
    "2": {"name": "Bus (20 km/hr) Rush hours(8km/hr)", "fare": 12.0, "cost": 2.25, "rush_hours": [(6, 9), (16, 18)]},
    "3": {"name": "Taxi (40 km/hr) Rush hours(12km/hr)", "fare": 45.0, "cost": 13.50, "rush_hours": [(6, 9), (16, 18)]},
    "4": {"name": "Train (60 km/hr)", "fare": 13.29, "cost": 0.21, "rush_hours": [(6, 9), (16, 18)]}
}

# Define a function to calculate the ETA based on distance and time of day
def calculate_eta(distance, speed, rush_hours):
    current_time = time.localtime().tm_hour
    for start, end in rush_hours:
        if start <= current_time < end:
            return distance / (speed * 0.5)
    return distance / speed

# Define a function to handle user input and output
def main():
    while True:
        destination = input("Where would you like to go? ")
        distance = float(input("How far away is your destination (in km)? "))
        print("Choose a transportation option:")
        for option in options:
            print(f"{option}: {options[option]['name']} (₱{options[option]['fare']} + ₱{options[option]['cost']}/km)")
        choice = input(">")
        if choice not in options:
            print("Invalid choice. Please choose a valid option.")
            continue
        cost = options[choice]["fare"] + (distance * options[choice]["cost"])
        speed = float(input("What is your average speed (in km/h)? "))
        eta = calculate_eta(distance, speed, options[choice]["rush_hours"])
        print(f"\nTransportation: {options[choice]['name']}")
        print(f"Destination: {destination}")
        print(f"Cost: ₱{cost:.2f}")
        if options[choice]["rush_hours"]:
            print(f"ETA (rush hours): {eta:.1f} hours")
        else:
            print(f"ETA: {eta:.1f} hours")
        print()
        repeat = input("Would you like to enter another destination? (Y/N) ")
        if repeat.lower() == "n":
            break

if __name__ == "__main__":
    main()
